{
  "nbformat": 4,
  "nbformat_minor": 0,
  "metadata": {
    "colab": {
      "provenance": [],
      "authorship_tag": "ABX9TyOzagrnHsX50CcTFkMISINT",
      "include_colab_link": true
    },
    "kernelspec": {
      "name": "python3",
      "display_name": "Python 3"
    },
    "language_info": {
      "name": "python"
    }
  },
  "cells": [
    {
      "cell_type": "markdown",
      "metadata": {
        "id": "view-in-github",
        "colab_type": "text"
      },
      "source": [
        "<a href=\"https://colab.research.google.com/github/Farjana-Yesmin/FarjanaYesmin/blob/main/AI_Chatbot.ipynb\" target=\"_parent\"><img src=\"https://colab.research.google.com/assets/colab-badge.svg\" alt=\"Open In Colab\"/></a>"
      ]
    },
    {
      "cell_type": "code",
      "execution_count": 1,
      "metadata": {
        "colab": {
          "base_uri": "https://localhost:8080/"
        },
        "id": "etpzR50MiZsB",
        "outputId": "d5375d4b-70c3-4002-e92c-745c9be55387"
      },
      "outputs": [
        {
          "output_type": "stream",
          "name": "stdout",
          "text": [
            "Mounted at /content/drive\n"
          ]
        }
      ],
      "source": [
        "from google.colab import drive\n",
        "drive.mount('/content/drive')\n",
        "\n"
      ]
    },
    {
      "cell_type": "code",
      "source": [
        "import pandas as pd\n",
        "import numpy as np\n",
        "import nltk\n",
        "from nltk.chat.util import Chat, reflections\n",
        "import random\n",
        "\n",
        "# For data preprocessing and chatbot implementation\n",
        "nltk.download('punkt')\n"
      ],
      "metadata": {
        "colab": {
          "base_uri": "https://localhost:8080/"
        },
        "id": "-rZKzJm-jLlh",
        "outputId": "58fcdcb3-37be-47e8-f3de-366f7b8f9628"
      },
      "execution_count": 2,
      "outputs": [
        {
          "output_type": "stream",
          "name": "stderr",
          "text": [
            "[nltk_data] Downloading package punkt to /root/nltk_data...\n",
            "[nltk_data]   Unzipping tokenizers/punkt.zip.\n"
          ]
        },
        {
          "output_type": "execute_result",
          "data": {
            "text/plain": [
              "True"
            ]
          },
          "metadata": {},
          "execution_count": 2
        }
      ]
    },
    {
      "cell_type": "code",
      "source": [
        "import pandas as pd\n",
        "\n",
        "# Load the dengue-related datasets with updated Google Drive links\n",
        "dgs_1 = pd.read_csv('https://drive.google.com/uc?export=download&id=1MtvrLNrxZRnqEDgeMbWTKcVzHdgUxzah')\n",
        "dgs_2 = pd.read_csv('https://drive.google.com/uc?export=download&id=1UpjwIZl6fdbLCETBhIN0qC4lPmo5l2mP')\n",
        "dgs_3 = pd.read_csv('https://drive.google.com/uc?export=download&id=1UpjwIZl6fdbLCETBhIN0qC4lPmo5l2mP')\n",
        "dgs_4 = pd.read_csv('https://drive.google.com/uc?export=download&id=154VMPrzPzuBXnwUUWoN4oqKCCL-1ihMl')\n",
        "dgs_5 = pd.read_csv('https://drive.google.com/uc?export=download&id=1f_DLUUQxemllttJVfnDvH4wXYendM200')\n",
        "dgs_6 = pd.read_csv('https://drive.google.com/uc?export=download&id=1pTEd4XDxrIVGCpGlBsOYw0TIWdxuehaM')\n",
        "\n",
        "# Load additional datasets with corrected names\n",
        "dengue_dataset = pd.read_csv('https://drive.google.com/uc?export=download&id=1MebTZTAmRYaak22C19lo7joN-GNVXU-_')\n",
        "dengue_climate_bangladesh = pd.read_csv('https://drive.google.com/uc?export=download&id=1j1p4L1QDrM9jQWatkDxkpEYLYZ_i7nrM')\n",
        "\n",
        "# Preview the first dataset\n",
        "dgs_1.head()\n"
      ],
      "metadata": {
        "colab": {
          "base_uri": "https://localhost:8080/",
          "height": 204
        },
        "id": "puFeLB3UnJJO",
        "outputId": "75eaf2ba-bca8-43a6-fd3a-7f4cd135f94e"
      },
      "execution_count": 5,
      "outputs": [
        {
          "output_type": "execute_result",
          "data": {
            "text/plain": [
              "  Age Group  Male  Female  Total\n",
              "0       0-5     9      10     19\n",
              "1     06-10     7      10     17\n",
              "2     11-15     6       2      8\n",
              "3     16-20    10       7     17\n",
              "4     21-25    15      15     30"
            ],
            "text/html": [
              "\n",
              "  <div id=\"df-192877c3-3783-4f44-8e7c-2c96b5efb244\" class=\"colab-df-container\">\n",
              "    <div>\n",
              "<style scoped>\n",
              "    .dataframe tbody tr th:only-of-type {\n",
              "        vertical-align: middle;\n",
              "    }\n",
              "\n",
              "    .dataframe tbody tr th {\n",
              "        vertical-align: top;\n",
              "    }\n",
              "\n",
              "    .dataframe thead th {\n",
              "        text-align: right;\n",
              "    }\n",
              "</style>\n",
              "<table border=\"1\" class=\"dataframe\">\n",
              "  <thead>\n",
              "    <tr style=\"text-align: right;\">\n",
              "      <th></th>\n",
              "      <th>Age Group</th>\n",
              "      <th>Male</th>\n",
              "      <th>Female</th>\n",
              "      <th>Total</th>\n",
              "    </tr>\n",
              "  </thead>\n",
              "  <tbody>\n",
              "    <tr>\n",
              "      <th>0</th>\n",
              "      <td>0-5</td>\n",
              "      <td>9</td>\n",
              "      <td>10</td>\n",
              "      <td>19</td>\n",
              "    </tr>\n",
              "    <tr>\n",
              "      <th>1</th>\n",
              "      <td>06-10</td>\n",
              "      <td>7</td>\n",
              "      <td>10</td>\n",
              "      <td>17</td>\n",
              "    </tr>\n",
              "    <tr>\n",
              "      <th>2</th>\n",
              "      <td>11-15</td>\n",
              "      <td>6</td>\n",
              "      <td>2</td>\n",
              "      <td>8</td>\n",
              "    </tr>\n",
              "    <tr>\n",
              "      <th>3</th>\n",
              "      <td>16-20</td>\n",
              "      <td>10</td>\n",
              "      <td>7</td>\n",
              "      <td>17</td>\n",
              "    </tr>\n",
              "    <tr>\n",
              "      <th>4</th>\n",
              "      <td>21-25</td>\n",
              "      <td>15</td>\n",
              "      <td>15</td>\n",
              "      <td>30</td>\n",
              "    </tr>\n",
              "  </tbody>\n",
              "</table>\n",
              "</div>\n",
              "    <div class=\"colab-df-buttons\">\n",
              "\n",
              "  <div class=\"colab-df-container\">\n",
              "    <button class=\"colab-df-convert\" onclick=\"convertToInteractive('df-192877c3-3783-4f44-8e7c-2c96b5efb244')\"\n",
              "            title=\"Convert this dataframe to an interactive table.\"\n",
              "            style=\"display:none;\">\n",
              "\n",
              "  <svg xmlns=\"http://www.w3.org/2000/svg\" height=\"24px\" viewBox=\"0 -960 960 960\">\n",
              "    <path d=\"M120-120v-720h720v720H120Zm60-500h600v-160H180v160Zm220 220h160v-160H400v160Zm0 220h160v-160H400v160ZM180-400h160v-160H180v160Zm440 0h160v-160H620v160ZM180-180h160v-160H180v160Zm440 0h160v-160H620v160Z\"/>\n",
              "  </svg>\n",
              "    </button>\n",
              "\n",
              "  <style>\n",
              "    .colab-df-container {\n",
              "      display:flex;\n",
              "      gap: 12px;\n",
              "    }\n",
              "\n",
              "    .colab-df-convert {\n",
              "      background-color: #E8F0FE;\n",
              "      border: none;\n",
              "      border-radius: 50%;\n",
              "      cursor: pointer;\n",
              "      display: none;\n",
              "      fill: #1967D2;\n",
              "      height: 32px;\n",
              "      padding: 0 0 0 0;\n",
              "      width: 32px;\n",
              "    }\n",
              "\n",
              "    .colab-df-convert:hover {\n",
              "      background-color: #E2EBFA;\n",
              "      box-shadow: 0px 1px 2px rgba(60, 64, 67, 0.3), 0px 1px 3px 1px rgba(60, 64, 67, 0.15);\n",
              "      fill: #174EA6;\n",
              "    }\n",
              "\n",
              "    .colab-df-buttons div {\n",
              "      margin-bottom: 4px;\n",
              "    }\n",
              "\n",
              "    [theme=dark] .colab-df-convert {\n",
              "      background-color: #3B4455;\n",
              "      fill: #D2E3FC;\n",
              "    }\n",
              "\n",
              "    [theme=dark] .colab-df-convert:hover {\n",
              "      background-color: #434B5C;\n",
              "      box-shadow: 0px 1px 3px 1px rgba(0, 0, 0, 0.15);\n",
              "      filter: drop-shadow(0px 1px 2px rgba(0, 0, 0, 0.3));\n",
              "      fill: #FFFFFF;\n",
              "    }\n",
              "  </style>\n",
              "\n",
              "    <script>\n",
              "      const buttonEl =\n",
              "        document.querySelector('#df-192877c3-3783-4f44-8e7c-2c96b5efb244 button.colab-df-convert');\n",
              "      buttonEl.style.display =\n",
              "        google.colab.kernel.accessAllowed ? 'block' : 'none';\n",
              "\n",
              "      async function convertToInteractive(key) {\n",
              "        const element = document.querySelector('#df-192877c3-3783-4f44-8e7c-2c96b5efb244');\n",
              "        const dataTable =\n",
              "          await google.colab.kernel.invokeFunction('convertToInteractive',\n",
              "                                                    [key], {});\n",
              "        if (!dataTable) return;\n",
              "\n",
              "        const docLinkHtml = 'Like what you see? Visit the ' +\n",
              "          '<a target=\"_blank\" href=https://colab.research.google.com/notebooks/data_table.ipynb>data table notebook</a>'\n",
              "          + ' to learn more about interactive tables.';\n",
              "        element.innerHTML = '';\n",
              "        dataTable['output_type'] = 'display_data';\n",
              "        await google.colab.output.renderOutput(dataTable, element);\n",
              "        const docLink = document.createElement('div');\n",
              "        docLink.innerHTML = docLinkHtml;\n",
              "        element.appendChild(docLink);\n",
              "      }\n",
              "    </script>\n",
              "  </div>\n",
              "\n",
              "\n",
              "<div id=\"df-90a552bc-debd-4c6a-a607-2b9cb819a24e\">\n",
              "  <button class=\"colab-df-quickchart\" onclick=\"quickchart('df-90a552bc-debd-4c6a-a607-2b9cb819a24e')\"\n",
              "            title=\"Suggest charts\"\n",
              "            style=\"display:none;\">\n",
              "\n",
              "<svg xmlns=\"http://www.w3.org/2000/svg\" height=\"24px\"viewBox=\"0 0 24 24\"\n",
              "     width=\"24px\">\n",
              "    <g>\n",
              "        <path d=\"M19 3H5c-1.1 0-2 .9-2 2v14c0 1.1.9 2 2 2h14c1.1 0 2-.9 2-2V5c0-1.1-.9-2-2-2zM9 17H7v-7h2v7zm4 0h-2V7h2v10zm4 0h-2v-4h2v4z\"/>\n",
              "    </g>\n",
              "</svg>\n",
              "  </button>\n",
              "\n",
              "<style>\n",
              "  .colab-df-quickchart {\n",
              "      --bg-color: #E8F0FE;\n",
              "      --fill-color: #1967D2;\n",
              "      --hover-bg-color: #E2EBFA;\n",
              "      --hover-fill-color: #174EA6;\n",
              "      --disabled-fill-color: #AAA;\n",
              "      --disabled-bg-color: #DDD;\n",
              "  }\n",
              "\n",
              "  [theme=dark] .colab-df-quickchart {\n",
              "      --bg-color: #3B4455;\n",
              "      --fill-color: #D2E3FC;\n",
              "      --hover-bg-color: #434B5C;\n",
              "      --hover-fill-color: #FFFFFF;\n",
              "      --disabled-bg-color: #3B4455;\n",
              "      --disabled-fill-color: #666;\n",
              "  }\n",
              "\n",
              "  .colab-df-quickchart {\n",
              "    background-color: var(--bg-color);\n",
              "    border: none;\n",
              "    border-radius: 50%;\n",
              "    cursor: pointer;\n",
              "    display: none;\n",
              "    fill: var(--fill-color);\n",
              "    height: 32px;\n",
              "    padding: 0;\n",
              "    width: 32px;\n",
              "  }\n",
              "\n",
              "  .colab-df-quickchart:hover {\n",
              "    background-color: var(--hover-bg-color);\n",
              "    box-shadow: 0 1px 2px rgba(60, 64, 67, 0.3), 0 1px 3px 1px rgba(60, 64, 67, 0.15);\n",
              "    fill: var(--button-hover-fill-color);\n",
              "  }\n",
              "\n",
              "  .colab-df-quickchart-complete:disabled,\n",
              "  .colab-df-quickchart-complete:disabled:hover {\n",
              "    background-color: var(--disabled-bg-color);\n",
              "    fill: var(--disabled-fill-color);\n",
              "    box-shadow: none;\n",
              "  }\n",
              "\n",
              "  .colab-df-spinner {\n",
              "    border: 2px solid var(--fill-color);\n",
              "    border-color: transparent;\n",
              "    border-bottom-color: var(--fill-color);\n",
              "    animation:\n",
              "      spin 1s steps(1) infinite;\n",
              "  }\n",
              "\n",
              "  @keyframes spin {\n",
              "    0% {\n",
              "      border-color: transparent;\n",
              "      border-bottom-color: var(--fill-color);\n",
              "      border-left-color: var(--fill-color);\n",
              "    }\n",
              "    20% {\n",
              "      border-color: transparent;\n",
              "      border-left-color: var(--fill-color);\n",
              "      border-top-color: var(--fill-color);\n",
              "    }\n",
              "    30% {\n",
              "      border-color: transparent;\n",
              "      border-left-color: var(--fill-color);\n",
              "      border-top-color: var(--fill-color);\n",
              "      border-right-color: var(--fill-color);\n",
              "    }\n",
              "    40% {\n",
              "      border-color: transparent;\n",
              "      border-right-color: var(--fill-color);\n",
              "      border-top-color: var(--fill-color);\n",
              "    }\n",
              "    60% {\n",
              "      border-color: transparent;\n",
              "      border-right-color: var(--fill-color);\n",
              "    }\n",
              "    80% {\n",
              "      border-color: transparent;\n",
              "      border-right-color: var(--fill-color);\n",
              "      border-bottom-color: var(--fill-color);\n",
              "    }\n",
              "    90% {\n",
              "      border-color: transparent;\n",
              "      border-bottom-color: var(--fill-color);\n",
              "    }\n",
              "  }\n",
              "</style>\n",
              "\n",
              "  <script>\n",
              "    async function quickchart(key) {\n",
              "      const quickchartButtonEl =\n",
              "        document.querySelector('#' + key + ' button');\n",
              "      quickchartButtonEl.disabled = true;  // To prevent multiple clicks.\n",
              "      quickchartButtonEl.classList.add('colab-df-spinner');\n",
              "      try {\n",
              "        const charts = await google.colab.kernel.invokeFunction(\n",
              "            'suggestCharts', [key], {});\n",
              "      } catch (error) {\n",
              "        console.error('Error during call to suggestCharts:', error);\n",
              "      }\n",
              "      quickchartButtonEl.classList.remove('colab-df-spinner');\n",
              "      quickchartButtonEl.classList.add('colab-df-quickchart-complete');\n",
              "    }\n",
              "    (() => {\n",
              "      let quickchartButtonEl =\n",
              "        document.querySelector('#df-90a552bc-debd-4c6a-a607-2b9cb819a24e button');\n",
              "      quickchartButtonEl.style.display =\n",
              "        google.colab.kernel.accessAllowed ? 'block' : 'none';\n",
              "    })();\n",
              "  </script>\n",
              "</div>\n",
              "\n",
              "    </div>\n",
              "  </div>\n"
            ],
            "application/vnd.google.colaboratory.intrinsic+json": {
              "type": "dataframe",
              "variable_name": "dgs_1",
              "summary": "{\n  \"name\": \"dgs_1\",\n  \"rows\": 18,\n  \"fields\": [\n    {\n      \"column\": \"Age Group\",\n      \"properties\": {\n        \"dtype\": \"string\",\n        \"num_unique_values\": 18,\n        \"samples\": [\n          \"0-5\",\n          \"06-10\",\n          \"41-45\"\n        ],\n        \"semantic_type\": \"\",\n        \"description\": \"\"\n      }\n    },\n    {\n      \"column\": \"Male\",\n      \"properties\": {\n        \"dtype\": \"number\",\n        \"std\": 34,\n        \"min\": 3,\n        \"max\": 153,\n        \"num_unique_values\": 13,\n        \"samples\": [\n          4,\n          5,\n          9\n        ],\n        \"semantic_type\": \"\",\n        \"description\": \"\"\n      }\n    },\n    {\n      \"column\": \"Female\",\n      \"properties\": {\n        \"dtype\": \"number\",\n        \"std\": 36,\n        \"min\": 0,\n        \"max\": 161,\n        \"num_unique_values\": 13,\n        \"samples\": [\n          0,\n          8,\n          10\n        ],\n        \"semantic_type\": \"\",\n        \"description\": \"\"\n      }\n    },\n    {\n      \"column\": \"Total\",\n      \"properties\": {\n        \"dtype\": \"number\",\n        \"std\": 70,\n        \"min\": 4,\n        \"max\": 314,\n        \"num_unique_values\": 12,\n        \"samples\": [\n          4,\n          10,\n          19\n        ],\n        \"semantic_type\": \"\",\n        \"description\": \"\"\n      }\n    }\n  ]\n}"
            }
          },
          "metadata": {},
          "execution_count": 5
        }
      ]
    },
    {
      "cell_type": "code",
      "source": [
        "# Check for missing values in the datasets\n",
        "print(dgs_1.isnull().sum())\n",
        "print(dgs_2.isnull().sum())\n",
        "\n",
        "# Handle missing data if necessary\n",
        "dgs_1.fillna(method='ffill', inplace=True)\n",
        "dgs_2.fillna(method='ffill', inplace=True)\n"
      ],
      "metadata": {
        "colab": {
          "base_uri": "https://localhost:8080/"
        },
        "id": "2ntOpK4LngDQ",
        "outputId": "c46707fa-0d67-4670-e616-6a0a75c3ac8c"
      },
      "execution_count": 6,
      "outputs": [
        {
          "output_type": "stream",
          "name": "stdout",
          "text": [
            "Age Group    0\n",
            "Male         0\n",
            "Female       0\n",
            "Total        0\n",
            "dtype: int64\n",
            "Age Group    1\n",
            "Male         1\n",
            "Female       1\n",
            "Total        1\n",
            "dtype: int64\n"
          ]
        },
        {
          "output_type": "stream",
          "name": "stderr",
          "text": [
            "<ipython-input-6-247a9e615fc0>:6: FutureWarning: DataFrame.fillna with 'method' is deprecated and will raise in a future version. Use obj.ffill() or obj.bfill() instead.\n",
            "  dgs_1.fillna(method='ffill', inplace=True)\n",
            "<ipython-input-6-247a9e615fc0>:7: FutureWarning: DataFrame.fillna with 'method' is deprecated and will raise in a future version. Use obj.ffill() or obj.bfill() instead.\n",
            "  dgs_2.fillna(method='ffill', inplace=True)\n"
          ]
        }
      ]
    },
    {
      "cell_type": "code",
      "source": [
        "# Use forward fill for missing values in both datasets (updated method)\n",
        "dgs_1.ffill(inplace=True)\n",
        "dgs_2.ffill(inplace=True)\n",
        "\n",
        "# Confirm the missing values have been handled\n",
        "print(dgs_1.isnull().sum())\n",
        "print(dgs_2.isnull().sum())\n"
      ],
      "metadata": {
        "colab": {
          "base_uri": "https://localhost:8080/"
        },
        "id": "Gp26Hg4NnvoN",
        "outputId": "99602f8d-2018-4957-f3b2-c110322a9ec2"
      },
      "execution_count": 7,
      "outputs": [
        {
          "output_type": "stream",
          "name": "stdout",
          "text": [
            "Age Group    0\n",
            "Male         0\n",
            "Female       0\n",
            "Total        0\n",
            "dtype: int64\n",
            "Age Group    1\n",
            "Male         1\n",
            "Female       1\n",
            "Total        1\n",
            "dtype: int64\n"
          ]
        }
      ]
    },
    {
      "cell_type": "code",
      "source": [
        "# Step 1: Feature Engineering\n",
        "# Convert categorical features like 'Age Group' and 'Gender' into numerical form if needed\n",
        "\n",
        "# For example, if 'Age Group' is categorical, you can use one-hot encoding or label encoding\n",
        "dgs_1['Age Group'] = dgs_1['Age Group'].astype('category')\n",
        "dgs_1['Age Group_encoded'] = dgs_1['Age Group'].cat.codes\n",
        "\n",
        "# You may also want to create a \"severity\" column based on the 'Total' number of cases\n",
        "# E.g., if Total > threshold, we mark it as severe, otherwise not\n",
        "threshold = 20  # Set this based on your understanding of the data\n",
        "dgs_1['Severity'] = dgs_1['Total'].apply(lambda x: 1 if x > threshold else 0)\n",
        "\n",
        "# Preview the engineered features\n",
        "print(dgs_1[['Age Group', 'Age Group_encoded', 'Total', 'Severity']].head())\n"
      ],
      "metadata": {
        "colab": {
          "base_uri": "https://localhost:8080/"
        },
        "id": "yIWhwWZrn9RP",
        "outputId": "305d59cc-7ed2-4e5c-f319-8576cf17abb6"
      },
      "execution_count": 8,
      "outputs": [
        {
          "output_type": "stream",
          "name": "stdout",
          "text": [
            "  Age Group  Age Group_encoded  Total  Severity\n",
            "0       0-5                  0     19         0\n",
            "1     06-10                  1     17         0\n",
            "2     11-15                  2      8         0\n",
            "3     16-20                  3     17         0\n",
            "4     21-25                  4     30         1\n"
          ]
        }
      ]
    },
    {
      "cell_type": "code",
      "source": [
        "# Step 2: Data Preparation\n",
        "from sklearn.model_selection import train_test_split\n",
        "\n",
        "# Define the features and label\n",
        "# Assuming 'Male', 'Female', and 'Age Group_encoded' are useful features for prediction\n",
        "X = dgs_1[['Male', 'Female', 'Age Group_encoded']]\n",
        "y = dgs_1['Severity']  # Label: whether the severity of cases is high or not\n",
        "\n",
        "# Split the data into training and testing sets (80% train, 20% test)\n",
        "X_train, X_test, y_train, y_test = train_test_split(X, y, test_size=0.2, random_state=42)\n",
        "\n",
        "# Check the shape of the split data\n",
        "print(f\"Training data shape: {X_train.shape}\")\n",
        "print(f\"Testing data shape: {X_test.shape}\")\n"
      ],
      "metadata": {
        "colab": {
          "base_uri": "https://localhost:8080/"
        },
        "id": "Ms_GjRfwn_1-",
        "outputId": "ca5c5e37-f761-4f6b-ebd9-a504f95294b1"
      },
      "execution_count": 9,
      "outputs": [
        {
          "output_type": "stream",
          "name": "stdout",
          "text": [
            "Training data shape: (14, 3)\n",
            "Testing data shape: (4, 3)\n"
          ]
        }
      ]
    },
    {
      "cell_type": "code",
      "source": [
        "# Step 3: Model Training\n",
        "from sklearn.tree import DecisionTreeClassifier\n",
        "from sklearn.metrics import accuracy_score, classification_report\n",
        "\n",
        "# Initialize the classifier\n",
        "clf = DecisionTreeClassifier(random_state=42)\n",
        "\n",
        "# Train the model\n",
        "clf.fit(X_train, y_train)\n",
        "\n",
        "# Step 4: Make Predictions\n",
        "y_pred = clf.predict(X_test)\n",
        "\n",
        "# Step 5: Evaluate the Model\n",
        "print(f\"Accuracy: {accuracy_score(y_test, y_pred)}\")\n",
        "print(\"Classification Report:\")\n",
        "print(classification_report(y_test, y_pred))\n"
      ],
      "metadata": {
        "colab": {
          "base_uri": "https://localhost:8080/"
        },
        "id": "uzDgU4p_oHQF",
        "outputId": "c8483b32-9d69-4d44-b4d2-7db41b34e9fe"
      },
      "execution_count": 10,
      "outputs": [
        {
          "output_type": "stream",
          "name": "stdout",
          "text": [
            "Accuracy: 1.0\n",
            "Classification Report:\n",
            "              precision    recall  f1-score   support\n",
            "\n",
            "           0       1.00      1.00      1.00         3\n",
            "           1       1.00      1.00      1.00         1\n",
            "\n",
            "    accuracy                           1.00         4\n",
            "   macro avg       1.00      1.00      1.00         4\n",
            "weighted avg       1.00      1.00      1.00         4\n",
            "\n"
          ]
        }
      ]
    },
    {
      "cell_type": "code",
      "source": [
        "# Step 4: Make Predictions on the test set\n",
        "y_pred = clf.predict(X_test)\n",
        "\n",
        "# Evaluate the model\n",
        "\n",
        "# 1. Accuracy Score\n",
        "accuracy = accuracy_score(y_test, y_pred)\n",
        "print(f\"Accuracy of the model: {accuracy:.2f}\")\n",
        "\n",
        "# 2. Confusion Matrix\n",
        "from sklearn.metrics import confusion_matrix\n",
        "import seaborn as sns\n",
        "import matplotlib.pyplot as plt\n",
        "\n",
        "# Plotting the confusion matrix to visualize performance\n",
        "conf_matrix = confusion_matrix(y_test, y_pred)\n",
        "sns.heatmap(conf_matrix, annot=True, fmt='d', cmap='Blues', xticklabels=['Non-Severe', 'Severe'], yticklabels=['Non-Severe', 'Severe'])\n",
        "plt.title('Confusion Matrix')\n",
        "plt.ylabel('Actual Class')\n",
        "plt.xlabel('Predicted Class')\n",
        "plt.show()\n",
        "\n",
        "# 3. Classification Report\n",
        "from sklearn.metrics import classification_report\n",
        "\n",
        "# Print the classification report for detailed metrics\n",
        "print(\"Classification Report:\")\n",
        "print(classification_report(y_test, y_pred, target_names=['Non-Severe', 'Severe']))\n"
      ],
      "metadata": {
        "colab": {
          "base_uri": "https://localhost:8080/",
          "height": 659
        },
        "id": "06NFqheeod3D",
        "outputId": "3a6c25e2-3691-479f-c925-f3ebed167555"
      },
      "execution_count": 11,
      "outputs": [
        {
          "output_type": "stream",
          "name": "stdout",
          "text": [
            "Accuracy of the model: 1.00\n"
          ]
        },
        {
          "output_type": "display_data",
          "data": {
            "text/plain": [
              "<Figure size 640x480 with 2 Axes>"
            ],
            "image/png": "[encoded data removed]"
          },
          "metadata": {}
        },
        {
          "output_type": "stream",
          "name": "stdout",
          "text": [
            "Classification Report:\n",
            "              precision    recall  f1-score   support\n",
            "\n",
            "  Non-Severe       1.00      1.00      1.00         3\n",
            "      Severe       1.00      1.00      1.00         1\n",
            "\n",
            "    accuracy                           1.00         4\n",
            "   macro avg       1.00      1.00      1.00         4\n",
            "weighted avg       1.00      1.00      1.00         4\n",
            "\n"
          ]
        }
      ]
    },
    {
      "cell_type": "code",
      "source": [
        "# Example of a simple chatbot-like function\n",
        "def dengue_symptom_checker(male, female, age_group):\n",
        "    # Convert age_group to encoded value (same as during training)\n",
        "    age_group_encoded = dgs_1[dgs_1['Age Group'] == age_group].iloc[0]['Age Group_encoded']\n",
        "\n",
        "    # Create an input array for the model\n",
        "    input_data = [[male, female, age_group_encoded]]\n",
        "\n",
        "    # Use the trained model to predict severity\n",
        "    prediction = clf.predict(input_data)\n",
        "\n",
        "    if prediction == 1:\n",
        "        return \"You may have a severe case of dengue. Please consult a healthcare provider immediately.\"\n",
        "    else:\n",
        "        return \"Based on the symptoms, you are less likely to have a severe case, but stay alert.\"\n",
        "\n",
        "# Example usage of the chatbot function\n",
        "response = dengue_symptom_checker(male=1, female=0, age_group='21-25')\n",
        "print(response)\n"
      ],
      "metadata": {
        "colab": {
          "base_uri": "https://localhost:8080/"
        },
        "id": "mHRyVhv3o7DV",
        "outputId": "48eb091e-a0e0-4da3-c6de-a8b6680b7dd8"
      },
      "execution_count": 12,
      "outputs": [
        {
          "output_type": "stream",
          "name": "stdout",
          "text": [
            "Based on the symptoms, you are less likely to have a severe case, but stay alert.\n"
          ]
        },
        {
          "output_type": "stream",
          "name": "stderr",
          "text": [
            "/usr/local/lib/python3.10/dist-packages/sklearn/base.py:493: UserWarning: X does not have valid feature names, but DecisionTreeClassifier was fitted with feature names\n",
            "  warnings.warn(\n"
          ]
        }
      ]
    },
    {
      "cell_type": "code",
      "source": [
        "from sklearn.model_selection import cross_val_score, StratifiedKFold\n",
        "\n",
        "# Define the number of folds for cross-validation (e.g., 5-fold)\n",
        "k = 5\n",
        "\n",
        "# Use StratifiedKFold to preserve class proportions in each fold\n",
        "skf = StratifiedKFold(n_splits=k)\n",
        "\n",
        "# Perform cross-validation and compute accuracy for each fold\n",
        "cross_val_scores = cross_val_score(clf, X, y, cv=skf, scoring='accuracy')\n",
        "\n",
        "# Print cross-validation results\n",
        "print(f'Cross-validation scores for {k} folds: {cross_val_scores}')\n",
        "print(f'Mean accuracy from cross-validation: {cross_val_scores.mean():.2f}')\n"
      ],
      "metadata": {
        "colab": {
          "base_uri": "https://localhost:8080/"
        },
        "id": "-ndMM1bDpLcd",
        "outputId": "1fc53477-6fde-4ab1-8543-b9a9cb678e44"
      },
      "execution_count": 13,
      "outputs": [
        {
          "output_type": "stream",
          "name": "stdout",
          "text": [
            "Cross-validation scores for 5 folds: [1.         1.         1.         0.66666667 1.        ]\n",
            "Mean accuracy from cross-validation: 0.93\n"
          ]
        }
      ]
    },
    {
      "cell_type": "code",
      "source": [
        "from imblearn.over_sampling import SMOTE\n",
        "\n",
        "# Apply SMOTE to oversample the minority class\n",
        "smote = SMOTE(random_state=42)\n",
        "X_resampled, y_resampled = smote.fit_resample(X, y)\n",
        "\n",
        "# Print the new class distribution\n",
        "print(f'Original class distribution:\\n{y.value_counts()}')\n",
        "print(f'Resampled class distribution:\\n{pd.Series(y_resampled).value_counts()}')\n"
      ],
      "metadata": {
        "colab": {
          "base_uri": "https://localhost:8080/"
        },
        "id": "7EJat-IBprKC",
        "outputId": "8bcee540-850f-427c-c1a4-b418fef6c68a"
      },
      "execution_count": 14,
      "outputs": [
        {
          "output_type": "stream",
          "name": "stdout",
          "text": [
            "Original class distribution:\n",
            "Severity\n",
            "0    12\n",
            "1     6\n",
            "Name: count, dtype: int64\n",
            "Resampled class distribution:\n",
            "Severity\n",
            "0    12\n",
            "1    12\n",
            "Name: count, dtype: int64\n"
          ]
        }
      ]
    },
    {
      "cell_type": "code",
      "source": [
        "from sklearn.model_selection import GridSearchCV\n",
        "\n",
        "# Define a parameter grid to search\n",
        "param_grid = {\n",
        "    'max_depth': [3, 5, 7, None],  # For Decision Trees, Random Forest, etc.\n",
        "    'min_samples_split': [2, 5, 10],\n",
        "    'min_samples_leaf': [1, 2, 4],\n",
        "    'criterion': ['gini', 'entropy']  # If using Decision Trees\n",
        "}\n",
        "\n",
        "# Set up GridSearchCV with the classifier and parameter grid\n",
        "grid_search = GridSearchCV(estimator=clf, param_grid=param_grid, cv=5, scoring='accuracy')\n",
        "\n",
        "# Fit the model to the resampled data\n",
        "grid_search.fit(X_resampled, y_resampled)\n",
        "\n",
        "# Best parameters from the grid search\n",
        "print(f'Best parameters: {grid_search.best_params_}')\n",
        "\n",
        "# Best model from the grid search\n",
        "best_clf = grid_search.best_estimator_\n"
      ],
      "metadata": {
        "colab": {
          "base_uri": "https://localhost:8080/"
        },
        "id": "506m-6zspvtt",
        "outputId": "336fed8b-5e39-4e9d-c1de-169d93fc76d7"
      },
      "execution_count": 15,
      "outputs": [
        {
          "output_type": "stream",
          "name": "stdout",
          "text": [
            "Best parameters: {'criterion': 'gini', 'max_depth': 3, 'min_samples_leaf': 1, 'min_samples_split': 2}\n"
          ]
        }
      ]
    },
    {
      "cell_type": "code",
      "source": [
        "# Perform cross-validation on the best model from GridSearchCV\n",
        "best_cross_val_scores = cross_val_score(best_clf, X_resampled, y_resampled, cv=skf, scoring='accuracy')\n",
        "\n",
        "# Print cross-validation results\n",
        "print(f'Cross-validation scores with tuned model: {best_cross_val_scores}')\n",
        "print(f'Mean accuracy with tuned model: {best_cross_val_scores.mean():.2f}')\n"
      ],
      "metadata": {
        "colab": {
          "base_uri": "https://localhost:8080/"
        },
        "id": "Et1Ykelnp1X4",
        "outputId": "72e69d93-4402-41e2-fa33-77fd191947a5"
      },
      "execution_count": 16,
      "outputs": [
        {
          "output_type": "stream",
          "name": "stdout",
          "text": [
            "Cross-validation scores with tuned model: [1.  1.  0.8 1.  1. ]\n",
            "Mean accuracy with tuned model: 0.96\n"
          ]
        }
      ]
    },
    {
      "cell_type": "code",
      "source": [
        "from sklearn.metrics import confusion_matrix\n",
        "\n",
        "# Make predictions on the original test data\n",
        "y_pred = best_clf.predict(X)\n",
        "\n",
        "# Compute the confusion matrix\n",
        "conf_matrix = confusion_matrix(y, y_pred)\n",
        "print('Confusion Matrix:')\n",
        "print(conf_matrix)\n",
        "\n",
        "# Optional: Visualize confusion matrix using seaborn heatmap\n",
        "import seaborn as sns\n",
        "import matplotlib.pyplot as plt\n",
        "\n",
        "sns.heatmap(conf_matrix, annot=True, fmt='d', cmap='Blues', xticklabels=['Non-Severe', 'Severe'], yticklabels=['Non-Severe', 'Severe'])\n",
        "plt.xlabel('Predicted')\n",
        "plt.ylabel('Actual')\n",
        "plt.show()\n"
      ],
      "metadata": {
        "colab": {
          "base_uri": "https://localhost:8080/",
          "height": 506
        },
        "id": "xT8DqwRip6B2",
        "outputId": "3c817e63-9e33-4d15-f65a-6d03250858d3"
      },
      "execution_count": 17,
      "outputs": [
        {
          "output_type": "stream",
          "name": "stdout",
          "text": [
            "Confusion Matrix:\n",
            "[[12  0]\n",
            " [ 0  6]]\n"
          ]
        },
        {
          "output_type": "display_data",
          "data": {
            "text/plain": [
              "<Figure size 640x480 with 2 Axes>"
            ],
            "image/png": "[encoded data removed]"
          },
          "metadata": {}
        }
      ]
    },
    {
      "cell_type": "code",
      "source": [
        "# For tree-based models, get feature importance\n",
        "feature_importances = pd.Series(best_clf.feature_importances_, index=X.columns).sort_values(ascending=False)\n",
        "\n",
        "# Print the most important features\n",
        "print('Feature Importances:')\n",
        "print(feature_importances)\n",
        "\n",
        "# Plot feature importance\n",
        "feature_importances.plot(kind='bar')\n",
        "plt.title('Feature Importances')\n",
        "plt.show()\n"
      ],
      "metadata": {
        "colab": {
          "base_uri": "https://localhost:8080/",
          "height": 663
        },
        "id": "YQ3xJOSIp_q1",
        "outputId": "a864cb3b-e6d8-4604-f479-937b65ad94fb"
      },
      "execution_count": 18,
      "outputs": [
        {
          "output_type": "stream",
          "name": "stdout",
          "text": [
            "Feature Importances:\n",
            "Female               1.0\n",
            "Male                 0.0\n",
            "Age Group_encoded    0.0\n",
            "dtype: float64\n"
          ]
        },
        {
          "output_type": "display_data",
          "data": {
            "text/plain": [
              "<Figure size 640x480 with 1 Axes>"
            ],
            "image/png": "[encoded data removed]"
          },
          "metadata": {}
        }
      ]
    },
    {
      "cell_type": "code",
      "source": [
        "# Combine Male and Female into one feature\n",
        "dgs_1['Gender'] = dgs_1['Female']  # or use 'Male', it doesn't matter as they are inversely related\n",
        "dgs_1.drop(['Male', 'Female'], axis=1, inplace=True)\n"
      ],
      "metadata": {
        "id": "JqoO7x9NqPcr"
      },
      "execution_count": 19,
      "outputs": []
    },
    {
      "cell_type": "code",
      "source": [
        "from sklearn.preprocessing import StandardScaler\n",
        "\n",
        "# Scale only numerical features (if using a model like Logistic Regression, SVM, etc.)\n",
        "scaler = StandardScaler()\n",
        "X_scaled = scaler.fit_transform(X_resampled)\n",
        "\n",
        "# Use the scaled features for further modeling\n"
      ],
      "metadata": {
        "id": "xAxKg8bXqUDH"
      },
      "execution_count": 20,
      "outputs": []
    },
    {
      "cell_type": "code",
      "source": [
        "import seaborn as sns\n",
        "import matplotlib.pyplot as plt\n",
        "\n",
        "# First, check the data types of the columns\n",
        "print(dgs_1.dtypes)\n",
        "\n",
        "# Select only numeric columns for the correlation matrix\n",
        "dgs_1_numeric = dgs_1.select_dtypes(include=[float, int])  # Include only float and int types\n",
        "\n",
        "# Compute the correlation matrix\n",
        "corr_matrix = dgs_1_numeric.corr()\n",
        "\n",
        "# Plot heatmap of the correlation matrix\n",
        "plt.figure(figsize=(10, 8))  # Set the size of the figure\n",
        "sns.heatmap(corr_matrix, annot=True, cmap='coolwarm', fmt='.2f', linewidths=.5)\n",
        "plt.title('Correlation Matrix')\n",
        "plt.show()\n",
        "\n"
      ],
      "metadata": {
        "colab": {
          "base_uri": "https://localhost:8080/",
          "height": 818
        },
        "id": "5Pwt90bpqXGi",
        "outputId": "f6f0bd22-9563-491d-9dda-52ecc2a23180"
      },
      "execution_count": 23,
      "outputs": [
        {
          "output_type": "stream",
          "name": "stdout",
          "text": [
            "Age Group                 category\n",
            "Total                        int64\n",
            "Age Group_encoded             int8\n",
            "Severity                     int64\n",
            "Gender                       int64\n",
            "Age_Gender_Interaction       int64\n",
            "dtype: object\n"
          ]
        },
        {
          "output_type": "display_data",
          "data": {
            "text/plain": [
              "<Figure size 1000x800 with 2 Axes>"
            ],
            "image/png": "[encoded data removed]"
          },
          "metadata": {}
        }
      ]
    },
    {
      "cell_type": "code",
      "source": [
        "# Example: Create an interaction feature\n",
        "dgs_1['Age_Gender_Interaction'] = dgs_1['Age Group_encoded'] * dgs_1['Gender']\n"
      ],
      "metadata": {
        "id": "A86dqp50q0hg"
      },
      "execution_count": 22,
      "outputs": []
    }
  ]
}